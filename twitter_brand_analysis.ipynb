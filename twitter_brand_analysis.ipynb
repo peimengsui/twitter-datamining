{
 "cells": [
  {
   "cell_type": "markdown",
   "metadata": {},
   "source": [
    "## Summary: This notebook is about analysis on 60,000 twitters collected Oct 24 - Oct 30 in Manhanttan. We focus on twitters mentioning brands in our dictionary. We are trying to find people's sentiment and language on differenct brands and different categories. "
   ]
  },
  {
   "cell_type": "code",
   "execution_count": 170,
   "metadata": {
    "collapsed": true
   },
   "outputs": [],
   "source": [
    "from pymongo import MongoClient\n",
    "import seaborn as sns\n",
    "import pandas as pd\n",
    "from matplotlib import pyplot as plt\n",
    "import matplotlib as mpl\n",
    "import numpy as np\n",
    "%matplotlib inline\n",
    "import re\n",
    "from textblob import TextBlob"
   ]
  },
  {
   "cell_type": "markdown",
   "metadata": {},
   "source": [
    "## Read in the brand dictionary"
   ]
  },
  {
   "cell_type": "code",
   "execution_count": 31,
   "metadata": {
    "collapsed": false
   },
   "outputs": [],
   "source": [
    "import json\n",
    "with open('dictionary.json', 'r') as f:\n",
    "     data = json.load(f)\n",
    "df = pd.DataFrame.from_dict(data).transpose()[3:]"
   ]
  },
  {
   "cell_type": "code",
   "execution_count": 33,
   "metadata": {
    "collapsed": false
   },
   "outputs": [
    {
     "data": {
      "text/html": [
       "<div>\n",
       "<table border=\"1\" class=\"dataframe\">\n",
       "  <thead>\n",
       "    <tr style=\"text-align: right;\">\n",
       "      <th></th>\n",
       "      <th>category</th>\n",
       "      <th>subtype</th>\n",
       "    </tr>\n",
       "  </thead>\n",
       "  <tbody>\n",
       "    <tr>\n",
       "      <th>100% pure</th>\n",
       "      <td>cosmetics</td>\n",
       "      <td>beauty</td>\n",
       "    </tr>\n",
       "    <tr>\n",
       "      <th>16 handles</th>\n",
       "      <td>sweets</td>\n",
       "      <td>food &amp; drink</td>\n",
       "    </tr>\n",
       "    <tr>\n",
       "      <th>17th street surf shop</th>\n",
       "      <td>activewear</td>\n",
       "      <td>apparel</td>\n",
       "    </tr>\n",
       "    <tr>\n",
       "      <th>21 toppings</th>\n",
       "      <td>sweets</td>\n",
       "      <td>food &amp; drink</td>\n",
       "    </tr>\n",
       "    <tr>\n",
       "      <th>24 hour cafe</th>\n",
       "      <td>full service</td>\n",
       "      <td>food &amp; drink</td>\n",
       "    </tr>\n",
       "  </tbody>\n",
       "</table>\n",
       "</div>"
      ],
      "text/plain": [
       "                           category       subtype\n",
       "100% pure                 cosmetics        beauty\n",
       "16 handles                   sweets  food & drink\n",
       "17th street surf shop    activewear       apparel\n",
       "21 toppings                  sweets  food & drink\n",
       "24 hour cafe           full service  food & drink"
      ]
     },
     "execution_count": 33,
     "metadata": {},
     "output_type": "execute_result"
    }
   ],
   "source": [
    "df.head()"
   ]
  },
  {
   "cell_type": "code",
   "execution_count": 40,
   "metadata": {
    "collapsed": false
   },
   "outputs": [
    {
     "data": {
      "text/plain": [
       "(4708, 2)"
      ]
     },
     "execution_count": 40,
     "metadata": {},
     "output_type": "execute_result"
    }
   ],
   "source": [
    "df.shape"
   ]
  },
  {
   "cell_type": "markdown",
   "metadata": {},
   "source": [
    "## Connect to Mongodb"
   ]
  },
  {
   "cell_type": "code",
   "execution_count": 37,
   "metadata": {
    "collapsed": true
   },
   "outputs": [],
   "source": [
    "client = MongoClient('localhost', 27017)\n",
    "db = client.Manhattan_Twitter_db\n",
    "collection = db.twitter_collection"
   ]
  },
  {
   "cell_type": "markdown",
   "metadata": {},
   "source": [
    "## Read in twitter data and filter for ones mentioning our brands"
   ]
  },
  {
   "cell_type": "code",
   "execution_count": 38,
   "metadata": {
    "collapsed": false
   },
   "outputs": [],
   "source": [
    "twitters = []\n",
    "for twitter in collection.find():\n",
    "    twitters.append(twitter['text'])"
   ]
  },
  {
   "cell_type": "code",
   "execution_count": 45,
   "metadata": {
    "collapsed": false
   },
   "outputs": [],
   "source": [
    "twitters = [x.lower() for x in twitters]"
   ]
  },
  {
   "cell_type": "code",
   "execution_count": 55,
   "metadata": {
    "collapsed": false
   },
   "outputs": [],
   "source": [
    "# twitter_brand_dict = {}\n",
    "# for doc in twitters:\n",
    "#     keep = False\n",
    "#     brand_list = []\n",
    "#     for brand in brands:\n",
    "#         if ' '+brand+' ' in doc:\n",
    "#             brand_list.append(brand)\n",
    "#             keep = True\n",
    "#     if keep: \n",
    "#         twitter_brand_dict[doc] = brand_list\n",
    "        \n",
    "\n",
    "# twitter_brand_dict = {}          \n",
    "            "
   ]
  },
  {
   "cell_type": "markdown",
   "metadata": {},
   "source": [
    "## Match twitter with each brand"
   ]
  },
  {
   "cell_type": "code",
   "execution_count": 74,
   "metadata": {
    "collapsed": false
   },
   "outputs": [],
   "source": [
    "twitter_brand_dict = {}\n",
    "for brand in brands:\n",
    "    keep = False\n",
    "    twitter_list = []\n",
    "    for doc in twitters:\n",
    "        if ' '+brand+' ' in doc:\n",
    "            twitter_list.append(doc)\n",
    "            keep = True\n",
    "    if keep: \n",
    "        twitter_brand_dict[brand] = twitter_list"
   ]
  },
  {
   "cell_type": "code",
   "execution_count": 118,
   "metadata": {
    "collapsed": false
   },
   "outputs": [],
   "source": [
    "twitter_brand_df = pd.Series(twitter_brand_dict,name=\"Twitter\")\n",
    "twitter_brand_df = pd.DataFrame(twitter_brand_df)"
   ]
  },
  {
   "cell_type": "code",
   "execution_count": 119,
   "metadata": {
    "collapsed": false
   },
   "outputs": [],
   "source": [
    "for i in range(0,twitter_brand_df.shape[0]):\n",
    "    twitter_brand_df[\"Twitter\"][i] = twitter_brand_dict.get(twitter_brand_df.index[i])"
   ]
  },
  {
   "cell_type": "code",
   "execution_count": 140,
   "metadata": {
    "collapsed": false
   },
   "outputs": [],
   "source": [
    "data = twitter_brand_df.merge(df,how=\"left\",left_index=True,right_index=True)"
   ]
  },
  {
   "cell_type": "code",
   "execution_count": 141,
   "metadata": {
    "collapsed": false
   },
   "outputs": [
    {
     "name": "stderr",
     "output_type": "stream",
     "text": [
      "/home/peimengsui/anaconda3/lib/python3.5/site-packages/ipykernel/__main__.py:3: SettingWithCopyWarning: \n",
      "A value is trying to be set on a copy of a slice from a DataFrame\n",
      "\n",
      "See the caveats in the documentation: http://pandas.pydata.org/pandas-docs/stable/indexing.html#indexing-view-versus-copy\n",
      "  app.launch_new_instance()\n"
     ]
    }
   ],
   "source": [
    "data[\"num_twitter\"] = 0\n",
    "for i in range(0,data.shape[0]):\n",
    "    data[\"num_twitter\"][i] = len(data.Twitter[i])"
   ]
  },
  {
   "cell_type": "code",
   "execution_count": 142,
   "metadata": {
    "collapsed": false
   },
   "outputs": [
    {
     "data": {
      "text/plain": [
       "4799"
      ]
     },
     "execution_count": 142,
     "metadata": {},
     "output_type": "execute_result"
    }
   ],
   "source": [
    "sum(data.num_twitter)"
   ]
  },
  {
   "cell_type": "markdown",
   "metadata": {},
   "source": [
    "## We end up with 4799 twitters mentioning our brands in total,still some inconsistency I believe, let's check"
   ]
  },
  {
   "cell_type": "code",
   "execution_count": 149,
   "metadata": {
    "collapsed": false
   },
   "outputs": [
    {
     "name": "stderr",
     "output_type": "stream",
     "text": [
      "/home/peimengsui/anaconda3/lib/python3.5/site-packages/ipykernel/__main__.py:1: FutureWarning: sort(columns=....) is deprecated, use sort_values(by=.....)\n",
      "  if __name__ == '__main__':\n"
     ]
    },
    {
     "data": {
      "text/html": [
       "<div>\n",
       "<table border=\"1\" class=\"dataframe\">\n",
       "  <thead>\n",
       "    <tr style=\"text-align: right;\">\n",
       "      <th></th>\n",
       "      <th>Twitter</th>\n",
       "      <th>category</th>\n",
       "      <th>subtype</th>\n",
       "      <th>num_twitter</th>\n",
       "    </tr>\n",
       "  </thead>\n",
       "  <tbody>\n",
       "    <tr>\n",
       "      <th>avenue</th>\n",
       "      <td>[arguably the most magical place on earth. @ 7...</td>\n",
       "      <td>apparel</td>\n",
       "      <td>women's apparel</td>\n",
       "      <td>379</td>\n",
       "    </tr>\n",
       "    <tr>\n",
       "      <th>manhattan</th>\n",
       "      <td>[view @ lower manhattan https://t.co/vmumdncw2...</td>\n",
       "      <td>apparel</td>\n",
       "      <td>casual</td>\n",
       "      <td>305</td>\n",
       "    </tr>\n",
       "    <tr>\n",
       "      <th>yes</th>\n",
       "      <td>[@sopdet @blueshirtbanter and yes that is obvi...</td>\n",
       "      <td>essentials</td>\n",
       "      <td>home goods</td>\n",
       "      <td>178</td>\n",
       "    </tr>\n",
       "    <tr>\n",
       "      <th>guess</th>\n",
       "      <td>[not a huge geno fan but unlike fitz geno work...</td>\n",
       "      <td>apparel</td>\n",
       "      <td>casual</td>\n",
       "      <td>175</td>\n",
       "    </tr>\n",
       "    <tr>\n",
       "      <th>square</th>\n",
       "      <td>[seasonal is where it's at @ union square gree...</td>\n",
       "      <td>beauty</td>\n",
       "      <td>accessories &amp; more</td>\n",
       "      <td>166</td>\n",
       "    </tr>\n",
       "    <tr>\n",
       "      <th>apple</th>\n",
       "      <td>[@rachidrouis my brother, who lives in san fra...</td>\n",
       "      <td>essentials</td>\n",
       "      <td>tech</td>\n",
       "      <td>121</td>\n",
       "    </tr>\n",
       "    <tr>\n",
       "      <th>brand</th>\n",
       "      <td>[the greatest thing you can ever do for your b...</td>\n",
       "      <td>subtype</td>\n",
       "      <td>category</td>\n",
       "      <td>103</td>\n",
       "    </tr>\n",
       "    <tr>\n",
       "      <th>bar</th>\n",
       "      <td>[i've felt pusha t &amp;amp; kid cudi are ridiculo...</td>\n",
       "      <td>entertainment</td>\n",
       "      <td>hangout</td>\n",
       "      <td>103</td>\n",
       "    </tr>\n",
       "    <tr>\n",
       "      <th>museum</th>\n",
       "      <td>[business trip.... nice way to start the week!...</td>\n",
       "      <td>essentials</td>\n",
       "      <td>specialty retailer</td>\n",
       "      <td>102</td>\n",
       "    </tr>\n",
       "    <tr>\n",
       "      <th>market</th>\n",
       "      <td>[\"big banks cede market share to #nonbanks\" ht...</td>\n",
       "      <td>grocery</td>\n",
       "      <td>supermarket</td>\n",
       "      <td>86</td>\n",
       "    </tr>\n",
       "  </tbody>\n",
       "</table>\n",
       "</div>"
      ],
      "text/plain": [
       "                                                     Twitter       category  \\\n",
       "avenue     [arguably the most magical place on earth. @ 7...        apparel   \n",
       "manhattan  [view @ lower manhattan https://t.co/vmumdncw2...        apparel   \n",
       "yes        [@sopdet @blueshirtbanter and yes that is obvi...     essentials   \n",
       "guess      [not a huge geno fan but unlike fitz geno work...        apparel   \n",
       "square     [seasonal is where it's at @ union square gree...         beauty   \n",
       "apple      [@rachidrouis my brother, who lives in san fra...     essentials   \n",
       "brand      [the greatest thing you can ever do for your b...        subtype   \n",
       "bar        [i've felt pusha t &amp; kid cudi are ridiculo...  entertainment   \n",
       "museum     [business trip.... nice way to start the week!...     essentials   \n",
       "market     [\"big banks cede market share to #nonbanks\" ht...        grocery   \n",
       "\n",
       "                      subtype  num_twitter  \n",
       "avenue        women's apparel          379  \n",
       "manhattan              casual          305  \n",
       "yes                home goods          178  \n",
       "guess                  casual          175  \n",
       "square     accessories & more          166  \n",
       "apple                    tech          121  \n",
       "brand                category          103  \n",
       "bar                   hangout          103  \n",
       "museum     specialty retailer          102  \n",
       "market            supermarket           86  "
      ]
     },
     "execution_count": 149,
     "metadata": {},
     "output_type": "execute_result"
    }
   ],
   "source": [
    "data.sort(\"num_twitter\",ascending = False).head(10)"
   ]
  },
  {
   "cell_type": "code",
   "execution_count": 150,
   "metadata": {
    "collapsed": false
   },
   "outputs": [
    {
     "name": "stderr",
     "output_type": "stream",
     "text": [
      "/home/peimengsui/anaconda3/lib/python3.5/site-packages/ipykernel/__main__.py:1: FutureWarning: sort(columns=....) is deprecated, use sort_values(by=.....)\n",
      "  if __name__ == '__main__':\n"
     ]
    },
    {
     "data": {
      "text/html": [
       "<div>\n",
       "<table border=\"1\" class=\"dataframe\">\n",
       "  <thead>\n",
       "    <tr style=\"text-align: right;\">\n",
       "      <th></th>\n",
       "      <th>Twitter</th>\n",
       "      <th>category</th>\n",
       "      <th>subtype</th>\n",
       "      <th>num_twitter</th>\n",
       "    </tr>\n",
       "  </thead>\n",
       "  <tbody>\n",
       "    <tr>\n",
       "      <th>24 hour fitness</th>\n",
       "      <td>[train to get strong! nothing else matters! #t...</td>\n",
       "      <td>specialty fitness</td>\n",
       "      <td>health &amp; wellness</td>\n",
       "      <td>1</td>\n",
       "    </tr>\n",
       "    <tr>\n",
       "      <th>marijuana dispensary</th>\n",
       "      <td>[the only positive about a marijuana dispensar...</td>\n",
       "      <td>essentials</td>\n",
       "      <td>specialty retailer</td>\n",
       "      <td>1</td>\n",
       "    </tr>\n",
       "    <tr>\n",
       "      <th>magnolia</th>\n",
       "      <td>[i'm at magnolia bakery in new york, ny https:...</td>\n",
       "      <td>sweets</td>\n",
       "      <td>food &amp; drink</td>\n",
       "      <td>1</td>\n",
       "    </tr>\n",
       "    <tr>\n",
       "      <th>maggiano's</th>\n",
       "      <td>[join the maggiano's team! see our latest #job...</td>\n",
       "      <td>food &amp; drink</td>\n",
       "      <td>quick service</td>\n",
       "      <td>1</td>\n",
       "    </tr>\n",
       "    <tr>\n",
       "      <th>madewell</th>\n",
       "      <td>[join the madewell team! see our latest #job o...</td>\n",
       "      <td>essentials</td>\n",
       "      <td>home goods</td>\n",
       "      <td>1</td>\n",
       "    </tr>\n",
       "    <tr>\n",
       "      <th>macy's backstage</th>\n",
       "      <td>[see our latest #brooklyn, ny #job and click t...</td>\n",
       "      <td>discount</td>\n",
       "      <td>department store</td>\n",
       "      <td>1</td>\n",
       "    </tr>\n",
       "    <tr>\n",
       "      <th>lush</th>\n",
       "      <td>[i'm at lush spa - fresh handmade treatments -...</td>\n",
       "      <td>beauty</td>\n",
       "      <td>cosmetics</td>\n",
       "      <td>1</td>\n",
       "    </tr>\n",
       "    <tr>\n",
       "      <th>lululemon</th>\n",
       "      <td>[just a typical day in the office. lululemonny...</td>\n",
       "      <td>apparel</td>\n",
       "      <td>activewear</td>\n",
       "      <td>1</td>\n",
       "    </tr>\n",
       "    <tr>\n",
       "      <th>louis vuitton</th>\n",
       "      <td>[@theandrewsystem louis vuitton sean, up in be...</td>\n",
       "      <td>beauty</td>\n",
       "      <td>accessories &amp; more</td>\n",
       "      <td>1</td>\n",
       "    </tr>\n",
       "    <tr>\n",
       "      <th>little caesars</th>\n",
       "      <td>[i'm at little caesars pizza in brooklyn, ny h...</td>\n",
       "      <td>food &amp; drink</td>\n",
       "      <td>quick service</td>\n",
       "      <td>1</td>\n",
       "    </tr>\n",
       "  </tbody>\n",
       "</table>\n",
       "</div>"
      ],
      "text/plain": [
       "                                                                Twitter  \\\n",
       "24 hour fitness       [train to get strong! nothing else matters! #t...   \n",
       "marijuana dispensary  [the only positive about a marijuana dispensar...   \n",
       "magnolia              [i'm at magnolia bakery in new york, ny https:...   \n",
       "maggiano's            [join the maggiano's team! see our latest #job...   \n",
       "madewell              [join the madewell team! see our latest #job o...   \n",
       "macy's backstage      [see our latest #brooklyn, ny #job and click t...   \n",
       "lush                  [i'm at lush spa - fresh handmade treatments -...   \n",
       "lululemon             [just a typical day in the office. lululemonny...   \n",
       "louis vuitton         [@theandrewsystem louis vuitton sean, up in be...   \n",
       "little caesars        [i'm at little caesars pizza in brooklyn, ny h...   \n",
       "\n",
       "                               category             subtype  num_twitter  \n",
       "24 hour fitness       specialty fitness   health & wellness            1  \n",
       "marijuana dispensary         essentials  specialty retailer            1  \n",
       "magnolia                         sweets        food & drink            1  \n",
       "maggiano's                 food & drink       quick service            1  \n",
       "madewell                     essentials          home goods            1  \n",
       "macy's backstage               discount    department store            1  \n",
       "lush                             beauty           cosmetics            1  \n",
       "lululemon                       apparel          activewear            1  \n",
       "louis vuitton                    beauty  accessories & more            1  \n",
       "little caesars             food & drink       quick service            1  "
      ]
     },
     "execution_count": 150,
     "metadata": {},
     "output_type": "execute_result"
    }
   ],
   "source": [
    "data.sort(\"num_twitter\").head(10)"
   ]
  },
  {
   "cell_type": "code",
   "execution_count": 183,
   "metadata": {
    "collapsed": false
   },
   "outputs": [
    {
     "data": {
      "text/plain": [
       "['@rachidrouis my brother, who lives in san francisco, keeps telling me it works great there. maybe it should be called apple bay area maps.',\n",
       " 't-mobile is to the mobile carrier industry what apple was to the computer industry circa 2003.\\n\\nhttps://t.co/iesmkk49bs',\n",
       " 'blue toad flower city blonde apple cider now available on tap. https://t.co/mqxvva8xfn #beermenus',\n",
       " '@film_girl great! maybe the apple store will no longer be sold out of the series 2 that i want!',\n",
       " 'finally gonna get my fix of caramel apple spice from starbucks. #fall16',\n",
       " 'wow, apple is showing adding in the app store search? steve jobs is rolling over right now 😕 https://t.co/gwglmmorxp',\n",
       " '@ginna_g saw a piece on apple cider vinegar on my local news very interesting benefits.',\n",
       " 'the 90s pop playlist on apple music got me through 5 hours of research today 👍🏼👍🏼👍🏼👍🏼👍🏼',\n",
       " \"@cnbc that raving fan loyalty didn't hurt apple much. it's a compliment\",\n",
       " '@fruit_bliss #holidaybliss a1 the leaves changing colors, the cool weather, flannel sheets, apple and pumpkin everything!']"
      ]
     },
     "execution_count": 183,
     "metadata": {},
     "output_type": "execute_result"
    }
   ],
   "source": [
    "data[data.index==\"apple\"].Twitter[0][:10]\n"
   ]
  },
  {
   "cell_type": "markdown",
   "metadata": {},
   "source": [
    "## As we can see, since some brands are composed of regular words, some redundant tweets came in. Need to find a way to differentiate among them. (e.g. apple mixed with apple cider)"
   ]
  },
  {
   "cell_type": "markdown",
   "metadata": {},
   "source": [
    "## Calculate a Sentiment score, same idea as venues of foursquare"
   ]
  },
  {
   "cell_type": "code",
   "execution_count": 171,
   "metadata": {
    "collapsed": false
   },
   "outputs": [],
   "source": [
    "def get_sentiment_score(txt):\n",
    "    text=[]\n",
    "    for tips in txt:\n",
    "        text.append(re.sub(r'^https?:\\/\\/.*[\\r\\n]*', '', tips, flags=re.MULTILINE))\n",
    "    polarity=[]\n",
    "    for tip in text:\n",
    "        testimonial = TextBlob(tip)\n",
    "        polarity.append(testimonial.sentiment.polarity)\n",
    "    vals=np.array(polarity)\n",
    "    if vals.size != 0:\n",
    "        score = sum(vals>0)/(vals.size)\n",
    "        return score\n",
    "    else : \n",
    "        return 0\n",
    "data[\"sentiment_score\"]=data[\"Twitter\"].apply(get_sentiment_score)"
   ]
  },
  {
   "cell_type": "code",
   "execution_count": 178,
   "metadata": {
    "collapsed": false
   },
   "outputs": [
    {
     "data": {
      "text/plain": [
       "<matplotlib.text.Text at 0x7ffd4b5999b0>"
      ]
     },
     "execution_count": 178,
     "metadata": {},
     "output_type": "execute_result"
    },
    {
     "data": {
      "image/png": "[encoded data removed]",
      "text/plain": [
       "<matplotlib.figure.Figure at 0x7ffd4b5494e0>"
      ]
     },
     "metadata": {},
     "output_type": "display_data"
    }
   ],
   "source": [
    "plt.hist(data[\"sentiment_score\"])\n",
    "plt.title(\"Sentiment Score Distribution\")"
   ]
  },
  {
   "cell_type": "markdown",
   "metadata": {},
   "source": [
    "## The scores are really polarized, let's see some highest and lowest examples."
   ]
  },
  {
   "cell_type": "code",
   "execution_count": 180,
   "metadata": {
    "collapsed": false
   },
   "outputs": [
    {
     "name": "stderr",
     "output_type": "stream",
     "text": [
      "/home/peimengsui/anaconda3/lib/python3.5/site-packages/ipykernel/__main__.py:1: FutureWarning: sort(columns=....) is deprecated, use sort_values(by=.....)\n",
      "  if __name__ == '__main__':\n"
     ]
    },
    {
     "data": {
      "text/html": [
       "<div>\n",
       "<table border=\"1\" class=\"dataframe\">\n",
       "  <thead>\n",
       "    <tr style=\"text-align: right;\">\n",
       "      <th></th>\n",
       "      <th>Twitter</th>\n",
       "      <th>category</th>\n",
       "      <th>subtype</th>\n",
       "      <th>num_twitter</th>\n",
       "      <th>sentiment_score</th>\n",
       "    </tr>\n",
       "  </thead>\n",
       "  <tbody>\n",
       "    <tr>\n",
       "      <th>zara</th>\n",
       "      <td>[@alyciakisa @zaynxmikey zara will always find...</td>\n",
       "      <td>upscale casual</td>\n",
       "      <td>apparel</td>\n",
       "      <td>1</td>\n",
       "      <td>0.0</td>\n",
       "    </tr>\n",
       "    <tr>\n",
       "      <th>small business</th>\n",
       "      <td>[\"street food vendors are a type of small busi...</td>\n",
       "      <td>specialty retailer</td>\n",
       "      <td>essentials</td>\n",
       "      <td>3</td>\n",
       "      <td>0.0</td>\n",
       "    </tr>\n",
       "    <tr>\n",
       "      <th>fashion nova</th>\n",
       "      <td>[when fashion nova has maternity jeans 😍]</td>\n",
       "      <td>women's apparel</td>\n",
       "      <td>apparel</td>\n",
       "      <td>1</td>\n",
       "      <td>0.0</td>\n",
       "    </tr>\n",
       "    <tr>\n",
       "      <th>skatepark</th>\n",
       "      <td>[chadece forever🌹 #deceforever #peacefordece i...</td>\n",
       "      <td>entertainment</td>\n",
       "      <td>sports</td>\n",
       "      <td>1</td>\n",
       "      <td>0.0</td>\n",
       "    </tr>\n",
       "    <tr>\n",
       "      <th>fendi</th>\n",
       "      <td>[yeah like sorry i didn't eat your puss every ...</td>\n",
       "      <td>luxury</td>\n",
       "      <td>apparel</td>\n",
       "      <td>1</td>\n",
       "      <td>0.0</td>\n",
       "    </tr>\n",
       "  </tbody>\n",
       "</table>\n",
       "</div>"
      ],
      "text/plain": [
       "                                                          Twitter  \\\n",
       "zara            [@alyciakisa @zaynxmikey zara will always find...   \n",
       "small business  [\"street food vendors are a type of small busi...   \n",
       "fashion nova            [when fashion nova has maternity jeans 😍]   \n",
       "skatepark       [chadece forever🌹 #deceforever #peacefordece i...   \n",
       "fendi           [yeah like sorry i didn't eat your puss every ...   \n",
       "\n",
       "                          category     subtype  num_twitter  sentiment_score  \n",
       "zara                upscale casual     apparel            1              0.0  \n",
       "small business  specialty retailer  essentials            3              0.0  \n",
       "fashion nova       women's apparel     apparel            1              0.0  \n",
       "skatepark            entertainment      sports            1              0.0  \n",
       "fendi                       luxury     apparel            1              0.0  "
      ]
     },
     "execution_count": 180,
     "metadata": {},
     "output_type": "execute_result"
    }
   ],
   "source": [
    "data.sort(\"sentiment_score\").head(5)"
   ]
  },
  {
   "cell_type": "markdown",
   "metadata": {},
   "source": [
    "## Let's check zara"
   ]
  },
  {
   "cell_type": "code",
   "execution_count": 194,
   "metadata": {
    "collapsed": false
   },
   "outputs": [
    {
     "data": {
      "text/plain": [
       "['@alyciakisa @zaynxmikey zara will always find a way pleathe']"
      ]
     },
     "execution_count": 194,
     "metadata": {},
     "output_type": "execute_result"
    }
   ],
   "source": [
    "data[data.index==\"zara\"].Twitter[0]\n"
   ]
  },
  {
   "cell_type": "code",
   "execution_count": 200,
   "metadata": {
    "collapsed": false
   },
   "outputs": [
    {
     "data": {
      "text/plain": [
       "[\"yeah like sorry i didn't eat your puss every hour and only cooked you 1 meal a day, and i got you a fendi instead o… https://t.co/7oyk2rzjuy\"]"
      ]
     },
     "execution_count": 200,
     "metadata": {},
     "output_type": "execute_result"
    }
   ],
   "source": [
    "data[data.index==\"fendi\"].Twitter[0]\n"
   ]
  },
  {
   "cell_type": "markdown",
   "metadata": {},
   "source": [
    "## The sentiment result won't be too accurate. People can complains other things other than the brand itself."
   ]
  },
  {
   "cell_type": "code",
   "execution_count": 201,
   "metadata": {
    "collapsed": false
   },
   "outputs": [
    {
     "name": "stderr",
     "output_type": "stream",
     "text": [
      "/home/peimengsui/anaconda3/lib/python3.5/site-packages/ipykernel/__main__.py:1: FutureWarning: sort(columns=....) is deprecated, use sort_values(by=.....)\n",
      "  if __name__ == '__main__':\n"
     ]
    },
    {
     "data": {
      "text/html": [
       "<div>\n",
       "<table border=\"1\" class=\"dataframe\">\n",
       "  <thead>\n",
       "    <tr style=\"text-align: right;\">\n",
       "      <th></th>\n",
       "      <th>Twitter</th>\n",
       "      <th>category</th>\n",
       "      <th>subtype</th>\n",
       "      <th>num_twitter</th>\n",
       "      <th>sentiment_score</th>\n",
       "    </tr>\n",
       "  </thead>\n",
       "  <tbody>\n",
       "    <tr>\n",
       "      <th>24 hour fitness</th>\n",
       "      <td>[train to get strong! nothing else matters! #t...</td>\n",
       "      <td>specialty fitness</td>\n",
       "      <td>health &amp; wellness</td>\n",
       "      <td>1</td>\n",
       "      <td>1.0</td>\n",
       "    </tr>\n",
       "    <tr>\n",
       "      <th>expressions</th>\n",
       "      <td>[if you need more of an excuse to appreciate @...</td>\n",
       "      <td>casual</td>\n",
       "      <td>apparel</td>\n",
       "      <td>1</td>\n",
       "      <td>1.0</td>\n",
       "    </tr>\n",
       "    <tr>\n",
       "      <th>curves</th>\n",
       "      <td>[@jazzyjulzz23 lol are they? i mean i think yo...</td>\n",
       "      <td>entertainment</td>\n",
       "      <td>sports</td>\n",
       "      <td>1</td>\n",
       "      <td>1.0</td>\n",
       "    </tr>\n",
       "    <tr>\n",
       "      <th>pandora</th>\n",
       "      <td>[a customer, a fan, and a guest today! (@ pand...</td>\n",
       "      <td>beauty</td>\n",
       "      <td>accessories &amp; more</td>\n",
       "      <td>32</td>\n",
       "      <td>1.0</td>\n",
       "    </tr>\n",
       "    <tr>\n",
       "      <th>david's bridal</th>\n",
       "      <td>[@maryarrr it's because i bought from david's ...</td>\n",
       "      <td>essentials</td>\n",
       "      <td>home goods</td>\n",
       "      <td>1</td>\n",
       "      <td>1.0</td>\n",
       "    </tr>\n",
       "  </tbody>\n",
       "</table>\n",
       "</div>"
      ],
      "text/plain": [
       "                                                           Twitter  \\\n",
       "24 hour fitness  [train to get strong! nothing else matters! #t...   \n",
       "expressions      [if you need more of an excuse to appreciate @...   \n",
       "curves           [@jazzyjulzz23 lol are they? i mean i think yo...   \n",
       "pandora          [a customer, a fan, and a guest today! (@ pand...   \n",
       "david's bridal   [@maryarrr it's because i bought from david's ...   \n",
       "\n",
       "                          category             subtype  num_twitter  \\\n",
       "24 hour fitness  specialty fitness   health & wellness            1   \n",
       "expressions                 casual             apparel            1   \n",
       "curves               entertainment              sports            1   \n",
       "pandora                     beauty  accessories & more           32   \n",
       "david's bridal          essentials          home goods            1   \n",
       "\n",
       "                 sentiment_score  \n",
       "24 hour fitness              1.0  \n",
       "expressions                  1.0  \n",
       "curves                       1.0  \n",
       "pandora                      1.0  \n",
       "david's bridal               1.0  "
      ]
     },
     "execution_count": 201,
     "metadata": {},
     "output_type": "execute_result"
    }
   ],
   "source": [
    "data.sort(\"sentiment_score\",ascending = False).head(5)"
   ]
  },
  {
   "cell_type": "code",
   "execution_count": 197,
   "metadata": {
    "collapsed": false
   },
   "outputs": [
    {
     "data": {
      "text/plain": [
       "['a customer, a fan, and a guest today! (@ pandora media in new york, ny) https://t.co/dzpzhshgna',\n",
       " 'https://t.co/wzmqfayzev\\nnew antione dunn - everything \\n#everything   #antionedunn ...\\n\\nyoutube . spotify &amp; pandora https://t.co/aqac5ubdzx',\n",
       " 'https://t.co/wzmqfayzev\\nnew antione dunn - everything \\n#everything   #antionedunn ...\\n\\nyoutube . spotify &amp; pandora https://t.co/m2gzktnfjt',\n",
       " 'https://t.co/wzmqfayzev\\nnew antione dunn - everything \\n#everything   #antionedunn ...\\n\\nyoutube . spotify &amp; pandora https://t.co/nvu4vfojdy',\n",
       " 'https://t.co/wzmqfayzev\\nnew antione dunn - everything \\n#everything   #antionedunn ...\\n\\nyoutube . spotify &amp; pandora https://t.co/nvu4vfojdy',\n",
       " 'https://t.co/wzmqfayzev\\nnew antione dunn - everything \\n#everything   #antionedunn ...\\n\\nyoutube . spotify &amp; pandora https://t.co/k928nrdhlh',\n",
       " 'https://t.co/wzmqfayzev\\nnew antione dunn - everything \\n#everything   #antionedunn ...\\n\\nyoutube . spotify &amp; pandora https://t.co/e903ne2c9h',\n",
       " 'https://t.co/wzmqfayzev\\nnew antione dunn - everything \\n#everything   #antionedunn ...\\n\\nyoutube . spotify &amp; pandora https://t.co/i60qq3dwyu',\n",
       " 'https://t.co/wzmqfayzev\\nnew antione dunn - everything \\n#everything   #antionedunn ...\\n\\nyoutube . spotify &amp; pandora https://t.co/wofxp0gy8g',\n",
       " 'https://t.co/wzmqfayzev\\nnew antione dunn - everything \\n#everything   #antionedunn ...\\n\\nyoutube . spotify &amp; pandora https://t.co/7ahjslj3us',\n",
       " 'https://t.co/wzmqfayzev\\nnew antione dunn - everything \\n#everything   #antionedunn ...\\n\\nyoutube . spotify &amp; pandora https://t.co/9cqxsxowjo',\n",
       " 'https://t.co/wzmqfayzev\\nnew antione dunn - everything \\n#everything   #antionedunn ...\\n\\nyoutube . spotify &amp; pandora https://t.co/0mkppxovfn',\n",
       " 'https://t.co/wzmqfayzev\\nnew antione dunn - everything \\n#everything   #antionedunn \\n\\nyoutube . spotify &amp; pandora https://t.co/6puubay8hi',\n",
       " 'https://t.co/wzmqfayzev\\nnew antione dunn - everything \\n#everything   #antionedunn ...\\n\\nyoutube . spotify &amp; pandora https://t.co/ulebx8nzv7',\n",
       " 'https://t.co/wzmqfayzev\\nnew antione dunn - everything \\n#everything   #antionedunn ...\\n\\nyoutube . spotify &amp; pandora https://t.co/h70hxyhqja',\n",
       " 'https://t.co/wzmqfayzev\\nnew antione dunn - everything \\n#everything   #antionedunn ...\\n\\nyoutube . spotify &amp; pandora https://t.co/1jynlsp3kz',\n",
       " 'https://t.co/wzmqfayzev\\nnew antione dunn - everything \\n#everything   #antionedunn ...\\n\\nyoutube . spotify &amp; pandora https://t.co/wzxtmizewn',\n",
       " 'https://t.co/wzmqfayzev\\nnew antione dunn - everything \\n#everything   #antionedunn ...\\n\\nyoutube . spotify &amp; pandora https://t.co/0lyurufvei',\n",
       " 'https://t.co/wzmqfayzev\\nnew antione dunn - everything \\n#everything   #antionedunn ...\\n\\nyoutube . spotify &amp; pandora https://t.co/dmi0xve7zv',\n",
       " 'https://t.co/wzmqfayzev\\nnew antione dunn - everything \\n#everything   #antionedunn ...\\n\\nyoutube . spotify &amp; pandora https://t.co/cmrkmelhej',\n",
       " 'https://t.co/wzmqfayzev\\nnew antione dunn - everything \\n#everything   #antionedunn ...\\n\\nyoutube . spotify &amp; pandora https://t.co/bhfb6pzvwj',\n",
       " 'https://t.co/wzmqfayzev\\nnew antione dunn - everything \\n#everything   #antionedunn ...\\n\\nyoutube . spotify &amp; pandora https://t.co/kfaoumqb7t',\n",
       " 'https://t.co/wzmqfayzev\\nnew antione dunn - everything \\n#everything   #antionedunn ...\\n\\nyoutube . spotify &amp; pandora https://t.co/uqhul6hlbb',\n",
       " 'https://t.co/wzmqfayzev\\nnew antione dunn - everything \\n#everything   #antionedunn ...\\n\\nyoutube . spotify &amp; pandora https://t.co/3qi1y6odf9',\n",
       " 'https://t.co/wzmqfayzev\\nnew antione dunn - everything \\n#everything   #antionedunn ...\\n\\nyoutube . spotify &amp; pandora https://t.co/dljtgnzwve',\n",
       " 'https://t.co/wzmqfayzev\\nnew antione dunn - everything \\n#everything   #antionedunn ...\\n\\nyoutube . spotify &amp; pandora https://t.co/514jz8iwv0',\n",
       " 'https://t.co/wzmqfayzev\\nnew antione dunn - everything \\n#everything   #antionedunn ...\\n\\nyoutube . spotify &amp; pandora https://t.co/p4nny72v0s',\n",
       " 'https://t.co/wzmqfayzev\\nnew antione dunn - everything \\n#everything   #antionedunn ...\\n\\nyoutube . spotify &amp; pandora https://t.co/yrhezdq1yr',\n",
       " 'https://t.co/wzmqfayzev\\nnew antione dunn - everything \\n#everything   #antionedunn ...\\n\\nyoutube . spotify &amp; pandora https://t.co/ug7it67bmb',\n",
       " 'https://t.co/wzmqfayzev\\nnew antione dunn - everything \\n#everything   #antionedunn ...\\n\\nyoutube . spotify &amp; pandora https://t.co/s9bphvjjit',\n",
       " 'https://t.co/wzmqfayzev\\nnew antione dunn - everything \\n#everything   #antionedunn ...\\n\\nyoutube . spotify &amp; pandora https://t.co/xez4tsnlpk',\n",
       " 'summer hits of 2000s is the best pandora station']"
      ]
     },
     "execution_count": 197,
     "metadata": {},
     "output_type": "execute_result"
    }
   ],
   "source": [
    "data[data.index==\"pandora\"].Twitter[0]"
   ]
  },
  {
   "cell_type": "markdown",
   "metadata": {},
   "source": [
    "## Some annoying ads..."
   ]
  },
  {
   "cell_type": "code",
   "execution_count": 198,
   "metadata": {
    "collapsed": false
   },
   "outputs": [
    {
     "data": {
      "text/plain": [
       "['train to get strong! nothing else matters! #tunnelvision ##prxtakeover @ 24 hour fitness -… https://t.co/tpg6c8lcvv']"
      ]
     },
     "execution_count": 198,
     "metadata": {},
     "output_type": "execute_result"
    }
   ],
   "source": [
    "data[data.index==\"24 hour fitness\"].Twitter[0]"
   ]
  },
  {
   "cell_type": "markdown",
   "metadata": {},
   "source": [
    "## Those seems usefule, although only one sample."
   ]
  },
  {
   "cell_type": "markdown",
   "metadata": {},
   "source": [
    "## Aggregate the sentiment score by category, hope to get stronger signal (i.e. more samples)"
   ]
  },
  {
   "cell_type": "code",
   "execution_count": 202,
   "metadata": {
    "collapsed": false
   },
   "outputs": [
    {
     "data": {
      "text/html": [
       "<div>\n",
       "<table border=\"1\" class=\"dataframe\">\n",
       "  <thead>\n",
       "    <tr style=\"text-align: right;\">\n",
       "      <th></th>\n",
       "      <th>Twitter</th>\n",
       "      <th>category</th>\n",
       "      <th>subtype</th>\n",
       "      <th>num_twitter</th>\n",
       "      <th>sentiment_score</th>\n",
       "    </tr>\n",
       "  </thead>\n",
       "  <tbody>\n",
       "    <tr>\n",
       "      <th>24 hour fitness</th>\n",
       "      <td>[train to get strong! nothing else matters! #t...</td>\n",
       "      <td>specialty fitness</td>\n",
       "      <td>health &amp; wellness</td>\n",
       "      <td>1</td>\n",
       "      <td>1.00</td>\n",
       "    </tr>\n",
       "    <tr>\n",
       "      <th>4d</th>\n",
       "      <td>[i'm at planet earth 4d theater in brooklyn, n...</td>\n",
       "      <td>enterainment</td>\n",
       "      <td>family</td>\n",
       "      <td>1</td>\n",
       "      <td>0.00</td>\n",
       "    </tr>\n",
       "    <tr>\n",
       "      <th>7/11</th>\n",
       "      <td>[@copastetik @_kimchanel_ like 7/11 😭😭😭 &amp;amp; ...</td>\n",
       "      <td>grocery</td>\n",
       "      <td>convenience</td>\n",
       "      <td>1</td>\n",
       "      <td>0.00</td>\n",
       "    </tr>\n",
       "    <tr>\n",
       "      <th>abc</th>\n",
       "      <td>[@drmartyfox @deneenborelli @seanhannity @loud...</td>\n",
       "      <td>essentials</td>\n",
       "      <td>home goods</td>\n",
       "      <td>8</td>\n",
       "      <td>0.25</td>\n",
       "    </tr>\n",
       "    <tr>\n",
       "      <th>acme</th>\n",
       "      <td>[#champagne isn't just for celebrating. grab a...</td>\n",
       "      <td>grocery</td>\n",
       "      <td>supermarket</td>\n",
       "      <td>1</td>\n",
       "      <td>0.00</td>\n",
       "    </tr>\n",
       "  </tbody>\n",
       "</table>\n",
       "</div>"
      ],
      "text/plain": [
       "                                                           Twitter  \\\n",
       "24 hour fitness  [train to get strong! nothing else matters! #t...   \n",
       "4d               [i'm at planet earth 4d theater in brooklyn, n...   \n",
       "7/11             [@copastetik @_kimchanel_ like 7/11 😭😭😭 &amp; ...   \n",
       "abc              [@drmartyfox @deneenborelli @seanhannity @loud...   \n",
       "acme             [#champagne isn't just for celebrating. grab a...   \n",
       "\n",
       "                          category            subtype  num_twitter  \\\n",
       "24 hour fitness  specialty fitness  health & wellness            1   \n",
       "4d                    enterainment             family            1   \n",
       "7/11                       grocery        convenience            1   \n",
       "abc                     essentials         home goods            8   \n",
       "acme                       grocery        supermarket            1   \n",
       "\n",
       "                 sentiment_score  \n",
       "24 hour fitness             1.00  \n",
       "4d                          0.00  \n",
       "7/11                        0.00  \n",
       "abc                         0.25  \n",
       "acme                        0.00  "
      ]
     },
     "execution_count": 202,
     "metadata": {},
     "output_type": "execute_result"
    }
   ],
   "source": [
    "data.head()"
   ]
  },
  {
   "cell_type": "markdown",
   "metadata": {},
   "source": [
    "## Only keep records >10"
   ]
  },
  {
   "cell_type": "code",
   "execution_count": 217,
   "metadata": {
    "collapsed": true
   },
   "outputs": [],
   "source": [
    "data1 = data[data.category.isin (data.category.value_counts()[data.category.value_counts()>10].index)]"
   ]
  },
  {
   "cell_type": "code",
   "execution_count": 222,
   "metadata": {
    "collapsed": false
   },
   "outputs": [
    {
     "data": {
      "text/html": [
       "<div>\n",
       "<table border=\"1\" class=\"dataframe\">\n",
       "  <thead>\n",
       "    <tr style=\"text-align: right;\">\n",
       "      <th></th>\n",
       "      <th>sentiment_score</th>\n",
       "    </tr>\n",
       "    <tr>\n",
       "      <th>category</th>\n",
       "      <th></th>\n",
       "    </tr>\n",
       "  </thead>\n",
       "  <tbody>\n",
       "    <tr>\n",
       "      <th>apparel</th>\n",
       "      <td>0.429559</td>\n",
       "    </tr>\n",
       "    <tr>\n",
       "      <th>beauty</th>\n",
       "      <td>0.390653</td>\n",
       "    </tr>\n",
       "    <tr>\n",
       "      <th>department store</th>\n",
       "      <td>0.480519</td>\n",
       "    </tr>\n",
       "    <tr>\n",
       "      <th>entertainment</th>\n",
       "      <td>0.422396</td>\n",
       "    </tr>\n",
       "    <tr>\n",
       "      <th>essentials</th>\n",
       "      <td>0.429925</td>\n",
       "    </tr>\n",
       "    <tr>\n",
       "      <th>food &amp; drink</th>\n",
       "      <td>0.495481</td>\n",
       "    </tr>\n",
       "    <tr>\n",
       "      <th>full service</th>\n",
       "      <td>0.413889</td>\n",
       "    </tr>\n",
       "    <tr>\n",
       "      <th>grocery</th>\n",
       "      <td>0.384441</td>\n",
       "    </tr>\n",
       "    <tr>\n",
       "      <th>specialty retailer</th>\n",
       "      <td>0.480797</td>\n",
       "    </tr>\n",
       "    <tr>\n",
       "      <th>women's apparel</th>\n",
       "      <td>0.228979</td>\n",
       "    </tr>\n",
       "  </tbody>\n",
       "</table>\n",
       "</div>"
      ],
      "text/plain": [
       "                    sentiment_score\n",
       "category                           \n",
       "apparel                    0.429559\n",
       "beauty                     0.390653\n",
       "department store           0.480519\n",
       "entertainment              0.422396\n",
       "essentials                 0.429925\n",
       "food & drink               0.495481\n",
       "full service               0.413889\n",
       "grocery                    0.384441\n",
       "specialty retailer         0.480797\n",
       "women's apparel            0.228979"
      ]
     },
     "execution_count": 222,
     "metadata": {},
     "output_type": "execute_result"
    }
   ],
   "source": [
    "data1[[\"category\",\"sentiment_score\"]].groupby(\"category\").mean()"
   ]
  },
  {
   "cell_type": "markdown",
   "metadata": {},
   "source": [
    "## Let's check word frequency in different categories"
   ]
  },
  {
   "cell_type": "code",
   "execution_count": 241,
   "metadata": {
    "collapsed": false
   },
   "outputs": [],
   "source": [
    "l = []\n",
    "for i in range(0,data1.shape[0]):\n",
    "    for j in range(0,len(data1[\"Twitter\"][i])):\n",
    "        l.append((data1[\"Twitter\"][i][j],data1[\"category\"][i]))"
   ]
  },
  {
   "cell_type": "code",
   "execution_count": 242,
   "metadata": {
    "collapsed": false
   },
   "outputs": [],
   "source": [
    "word_data = pd.DataFrame.from_records(l,columns = [\"Twitter\",\"category\"])"
   ]
  },
  {
   "cell_type": "code",
   "execution_count": 243,
   "metadata": {
    "collapsed": false
   },
   "outputs": [],
   "source": [
    "from sklearn.feature_extraction.text import CountVectorizer\n",
    "from sklearn.preprocessing import LabelEncoder\n",
    "from sklearn.svm import LinearSVC\n",
    "from sklearn.cross_validation import StratifiedShuffleSplit\n",
    "from sklearn.feature_extraction.stop_words import ENGLISH_STOP_WORDS\n",
    "import string\n",
    "\n",
    "rem = string.digits + '/\\-+.'\n",
    "rem_chars = lambda a: ''.join([i for i in a if i not in rem])\n",
    "word_data['Twitter'] = word_data['Twitter'].apply(rem_chars)\n"
   ]
  },
  {
   "cell_type": "code",
   "execution_count": 244,
   "metadata": {
    "collapsed": true
   },
   "outputs": [],
   "source": [
    "stop_words = ENGLISH_STOP_WORDS"
   ]
  },
  {
   "cell_type": "code",
   "execution_count": 245,
   "metadata": {
    "collapsed": false
   },
   "outputs": [
    {
     "data": {
      "text/plain": [
       "<matplotlib.text.Text at 0x7ffd4b57c9e8>"
      ]
     },
     "execution_count": 245,
     "metadata": {},
     "output_type": "execute_result"
    },
    {
     "data": {
      "image/png": "[encoded data removed]",
      "text/plain": [
       "<matplotlib.figure.Figure at 0x7ffd4b675fd0>"
      ]
     },
     "metadata": {},
     "output_type": "display_data"
    }
   ],
   "source": [
    "vec = CountVectorizer(max_df=.6, stop_words=stop_words)\n",
    "vec_tar = LabelEncoder()\n",
    "\n",
    "counts = vec.fit_transform(word_data['Twitter'])\n",
    "targets = vec_tar.fit_transform(word_data['category'])\n",
    "plt.plot(counts[:3].toarray().T)\n",
    "plt.ylim([-1, 2])\n",
    "plt.title('Each row is a post, with 1s representing presence of a word in that post')"
   ]
  },
  {
   "cell_type": "code",
   "execution_count": 250,
   "metadata": {
    "collapsed": false
   },
   "outputs": [],
   "source": [
    "top_words = {}\n",
    "for itrg in np.unique(targets):\n",
    "    loc = vec_tar.classes_[itrg]\n",
    "    # Pull only the data points assigned to the current loction\n",
    "    icounts = counts[targets == itrg, :].sum(0).squeeze()\n",
    "    \n",
    "    # Which counts had at least five occurrences\n",
    "    msk_top_words = icounts > 30\n",
    "    \n",
    "    # The inverse transform turns the vectors back into actual words\n",
    "    top_words[loc] = vec.inverse_transform(msk_top_words)[0]"
   ]
  },
  {
   "cell_type": "code",
   "execution_count": 251,
   "metadata": {
    "collapsed": false
   },
   "outputs": [
    {
     "data": {
      "text/plain": [
       "{'apparel': array(['amp', 'avenue', 'bbus', 'bound', 'bridge', 'brooklyn', 'cleared',\n",
       "        'construction', 'court', 'cream', 'directions', 'east', 'eb',\n",
       "        'exit', 'flatbush', 'guess', 'https', 'incident', 'just', 'like',\n",
       "        'line', 'livingston', 'lucky', 'manhattan', 'midtown', 'nb', 'new',\n",
       "        'ny', 'nyc', 'park', 'pink', 'sb', 'st', 'station', 'street', 'th',\n",
       "        'update', 'wb', 'york'], \n",
       "       dtype='<U50'),\n",
       " 'beauty': array(['accident', 'amp', 'cleared', 'fashion', 'https', 'new', 'nyc',\n",
       "        'pandora', 'park', 'square', 'st', 'station', 'stop', 'th', 'times',\n",
       "        'traffic', 'union', 'york'], \n",
       "       dtype='<U50'),\n",
       " 'department store': array(['https'], \n",
       "       dtype='<U50'),\n",
       " 'entertainment': array(['amp', 'bar', 'classes', 'fitness', 'gym', 'https', 'library',\n",
       "        'lounge', 'new', 'ny', 'sports', 'theater', 'york'], \n",
       "       dtype='<U50'),\n",
       " 'essentials': array(['amp', 'apple', 'art', 'bank', 'hiring', 'home', 'https', 'job',\n",
       "        'just', 'like', 'museum', 'new', 'ny', 'police', 'security', 'want',\n",
       "        'yes', 'york'], \n",
       "       dtype='<U50'),\n",
       " 'food & drink': array(['amp', 'cafe', 'food', 'https', 'just', 'new', 'ny', 'nyc', 'pizza',\n",
       "        'restaurant', 'starbucks', 'subway', 'york'], \n",
       "       dtype='<U50'),\n",
       " 'full service': array([], \n",
       "       dtype='<U50'),\n",
       " 'grocery': array(['careerarc', 'healthcare', 'hiring', 'https', 'job', 'latest',\n",
       "        'market', 'ny', 'pharmacy'], \n",
       "       dtype='<U50'),\n",
       " 'specialty retailer': array(['fame', 'https'], \n",
       "       dtype='<U50'),\n",
       " \"women's apparel\": array(['https', 'justice'], \n",
       "       dtype='<U50')}"
      ]
     },
     "execution_count": 251,
     "metadata": {},
     "output_type": "execute_result"
    }
   ],
   "source": [
    "top_words"
   ]
  },
  {
   "cell_type": "code",
   "execution_count": 252,
   "metadata": {
    "collapsed": false
   },
   "outputs": [
    {
     "name": "stdout",
     "output_type": "stream",
     "text": [
      "apparel: ['avenue', 'bbus', 'bound', 'bridge', 'brooklyn', 'construction', 'court', 'cream', 'directions', 'east', 'eb', 'exit', 'flatbush', 'guess', 'incident', 'line', 'livingston', 'lucky', 'manhattan', 'midtown', 'nb', 'pink', 'sb', 'street', 'update', 'wb']\n",
      "\n",
      "---\n",
      "\n",
      "food & drink: ['cafe', 'food', 'pizza', 'restaurant', 'starbucks', 'subway']\n",
      "\n",
      "---\n",
      "\n",
      "full service: []\n",
      "\n",
      "---\n",
      "\n",
      "essentials: ['apple', 'art', 'bank', 'home', 'museum', 'police', 'security', 'want', 'yes']\n",
      "\n",
      "---\n",
      "\n",
      "specialty retailer: ['fame']\n",
      "\n",
      "---\n",
      "\n",
      "department store: []\n",
      "\n",
      "---\n",
      "\n",
      "grocery: ['careerarc', 'healthcare', 'latest', 'market', 'pharmacy']\n",
      "\n",
      "---\n",
      "\n",
      "beauty: ['accident', 'fashion', 'pandora', 'square', 'stop', 'times', 'traffic', 'union']\n",
      "\n",
      "---\n",
      "\n",
      "entertainment: ['bar', 'classes', 'fitness', 'gym', 'library', 'lounge', 'sports', 'theater']\n",
      "\n",
      "---\n",
      "\n",
      "women's apparel: ['justice']\n",
      "\n",
      "---\n",
      "\n"
     ]
    }
   ],
   "source": [
    "unique_words = {}\n",
    "for loc, words in top_words.items():\n",
    "    others = top_words.copy()\n",
    "    others.pop(loc)\n",
    "    unique_words[loc] = [wrd for wrd in top_words[loc]\n",
    "                         if wrd not in np.hstack(others.values())]\n",
    "for loc, words in unique_words.items():\n",
    "    print('{0}: {1}\\n\\n---\\n'.format(loc, words))"
   ]
  },
  {
   "cell_type": "markdown",
   "metadata": {},
   "source": [
    "## Future Work Direction: \n",
    "## 1. Need better way to catch real twitter mentioning brands\n",
    "## 2. Still sparsity\n",
    "## 3. Need to classify among twitter express sentiment about the brand itself and others\n",
    "## 4. Still some potential use of word frequency\n",
    "## 5. Look into paper about twitter brand sentiment analysis"
   ]
  },
  {
   "cell_type": "code",
   "execution_count": null,
   "metadata": {
    "collapsed": true
   },
   "outputs": [],
   "source": []
  }
 ],
 "metadata": {
  "anaconda-cloud": {},
  "kernelspec": {
   "display_name": "Python [Root]",
   "language": "python",
   "name": "Python [Root]"
  },
  "language_info": {
   "codemirror_mode": {
    "name": "ipython",
    "version": 3
   },
   "file_extension": ".py",
   "mimetype": "text/x-python",
   "name": "python",
   "nbconvert_exporter": "python",
   "pygments_lexer": "ipython3",
   "version": "3.5.2"
  }
 },
 "nbformat": 4,
 "nbformat_minor": 0
}
