{
 "cells": [
  {
   "cell_type": "code",
   "execution_count": 59,
   "metadata": {
    "collapsed": false
   },
   "outputs": [],
   "source": [
    "from pymongo import MongoClient\n",
    "import seaborn as sns\n",
    "import pandas as pd\n",
    "from matplotlib import pyplot as plt\n",
    "import matplotlib as mpl\n",
    "import numpy as np\n",
    "%matplotlib inline\n",
    "import re\n",
    "from sklearn.feature_extraction.text import CountVectorizer\n",
    "from sklearn.preprocessing import LabelEncoder\n",
    "from sklearn.svm import LinearSVC\n",
    "from sklearn.cross_validation import StratifiedShuffleSplit\n",
    "from sklearn.feature_extraction.stop_words import ENGLISH_STOP_WORDS\n",
    "import string\n",
    "import operator\n",
    "import json\n",
    "from collections import Counter\n",
    "from nltk.corpus import stopwords\n",
    "from nltk import bigrams "
   ]
  },
  {
   "cell_type": "markdown",
   "metadata": {},
   "source": [
    "## Load Data from Mongo"
   ]
  },
  {
   "cell_type": "code",
   "execution_count": 60,
   "metadata": {
    "collapsed": true
   },
   "outputs": [],
   "source": [
    "client = MongoClient('localhost', 27017)\n",
    "db = client.NEBFTwitter_db\n",
    "collection = db.twitter_collection"
   ]
  },
  {
   "cell_type": "code",
   "execution_count": 61,
   "metadata": {
    "collapsed": false
   },
   "outputs": [],
   "source": [
    "import re\n",
    " \n",
    "emoticons_str = r\"\"\"\n",
    "    (?:\n",
    "        [:=;] # Eyes\n",
    "        [oO\\-]? # Nose (optional)\n",
    "        [D\\)\\]\\(\\]/\\\\OpP] # Mouth\n",
    "    )\"\"\"\n",
    " \n",
    "regex_str = [\n",
    "    emoticons_str,\n",
    "    r'<[^>]+>', # HTML tags\n",
    "    r'(?:@[\\w_]+)', # @-mentions\n",
    "    r\"(?:\\#+[\\w_]+[\\w\\'_\\-]*[\\w_]+)\", # hash-tags\n",
    "    r'http[s]?://(?:[a-z]|[0-9]|[$-_@.&amp;+]|[!*\\(\\),]|(?:%[0-9a-f][0-9a-f]))+', # URLs\n",
    " \n",
    "    r'(?:(?:\\d+,?)+(?:\\.?\\d+)?)', # numbers\n",
    "    r\"(?:[a-z][a-z'\\-_]+[a-z])\", # words with - and '\n",
    "    r'(?:[\\w_]+)', # other words\n",
    "    r'(?:\\S)' # anything else\n",
    "]\n",
    "    \n",
    "tokens_re = re.compile(r'('+'|'.join(regex_str)+')', re.VERBOSE | re.IGNORECASE)\n",
    "emoticon_re = re.compile(r'^'+emoticons_str+'$', re.VERBOSE | re.IGNORECASE)\n",
    " \n",
    "def tokenize(s):\n",
    "    return tokens_re.findall(s)\n",
    " \n",
    "def preprocess(s, lowercase=False):\n",
    "    tokens = tokenize(s)\n",
    "    if lowercase:\n",
    "        tokens = [token if emoticon_re.search(token) else token.lower() for token in tokens]\n",
    "    return tokens\n",
    " "
   ]
  },
  {
   "cell_type": "code",
   "execution_count": 62,
   "metadata": {
    "collapsed": false
   },
   "outputs": [
    {
     "name": "stdout",
     "output_type": "stream",
     "text": [
      "[(('#hiring', '#careerarc'), 4333), (('😂', '😂'), 3614), ((\"we're\", '#hiring'), 2780), (('❤', '️'), 2037), (('great', 'fit'), 1957), (('recommend', '#job'), 1940), (('click', 'apply'), 1873), (('want', 'work'), 1860), (('latest', '#job'), 1836), (('#job', 'opening'), 1820), (('😭', '😭'), 1583), (('happy', 'birthday'), 1494), ((\"you're\", 'looking'), 1035), (('looking', 'work'), 1014), (('check', '#job'), 1012), (('#job', 'great'), 1007), (('interested', '#job'), 968), (('#hiring', 'click'), 953), (('latest', 'opening'), 934), (('view', 'latest'), 934), (('#job', 'click'), 931), (('read', 'latest'), 930), (('#hiring', 'read'), 924), (('click', 'details'), 912), (('team', 'latest'), 896), (('#jobs', '#hiring'), 881), (('💗', '💗'), 863), ((\"can't\", 'wait'), 738), (('#jobs', '#careerarc'), 685), (('#blackfriday', 'deals'), 666), (('new', 'york'), 658), (('black', 'friday'), 598), (('😍', '😍'), 574), (('#veterans', '#hiring'), 534), (('️', '❤'), 498), (('°', 'f'), 455), ((\"don't\", 'know'), 444), (('feel', 'like'), 407), (('‼', '️'), 403), (('coming', 'soon'), 397), (('#retail', '#hiring'), 388), (('#newyork', 'ny'), 367), (('#hospitality', '#veterans'), 360), (('☺', '️'), 334), (('🔥', '🔥'), 333), (('deals', 'coming'), 313), (('😩', '😩'), 310), (('early', 'access'), 307), (('cleared', 'construction'), 305), (('soon', 'early'), 296)]\n"
     ]
    }
   ],
   "source": [
    "punctuation = list(string.punctuation)\n",
    "stop_words = ENGLISH_STOP_WORDS\n",
    "stop = stopwords.words('english') + punctuation + ['rt', 'via','amp'] + list(stop_words)\n",
    "count_bigram=Counter()\n",
    "for twitter in collection.find():\n",
    "    try: \n",
    "        tweet = twitter[\"text\"]\n",
    "        tweet = tweet.lower()\n",
    "        terms_stop = [term for term in preprocess(tweet) if term not in stop]\n",
    "        terms_bigram = bigrams(terms_stop)\n",
    "        # Update the counter\n",
    "        count_bigram.update(terms_bigram)\n",
    "    except Exception:\n",
    "        pass\n",
    "# Print the first 5 most frequent words\n",
    "print(count_bigram.most_common(50))"
   ]
  },
  {
   "cell_type": "code",
   "execution_count": 63,
   "metadata": {
    "collapsed": false
   },
   "outputs": [
    {
     "name": "stdout",
     "output_type": "stream",
     "text": [
      "[('#job', 10206), ('#hiring', 9070), ('#careerarc', 5227), ('#blackfriday', 4051), ('#jobs', 2225), ('#hospitality', 1323), ('#retail', 1062), ('#veterans', 959), ('#sales', 705), ('#nursing', 648), ('#healthcare', 645), ('#tbt', 536), ('#newyork', 440), ('#transportation', 431), ('#', 402), ('#chicago', 388), ('#customerservice', 313), ('#xboxlive', 299), ('#it', 295), ('#boston', 284)]\n"
     ]
    }
   ],
   "source": [
    "count_hash=Counter()\n",
    "for twitter in collection.find():\n",
    "    try:\n",
    "        tweet = twitter[\"text\"]\n",
    "        tweet = tweet.lower()\n",
    "        terms_hash = [term for term in preprocess(tweet)\n",
    "                  if term.startswith('#')]\n",
    "        # Update the counter\n",
    "        count_hash.update(terms_hash)\n",
    "    except Exception:\n",
    "        pass\n",
    "# Print the first 5 most frequent words\n",
    "print(count_hash.most_common(20))"
   ]
  },
  {
   "cell_type": "code",
   "execution_count": 64,
   "metadata": {
    "collapsed": false
   },
   "outputs": [
    {
     "name": "stdout",
     "output_type": "stream",
     "text": [
      "[('@', 4166), ('@realdonaldtrump', 546), ('@xbox', 296), ('@vycadetheoracle', 191), ('@foxnews', 182), ('@potus', 167), ('@cnn', 166), ('@bfads', 158), ('@harry_styles', 134), ('@nytimes', 105), ('@youtube', 99), ('@crowdtappers', 97), ('@hillaryclinton', 91), ('@ptpa', 89), ('@simplystacienet', 83), ('@berniesanders', 81), ('@kurteichenwald', 77), ('@qvc', 74), ('@joyannreid', 73), ('@jccaylen', 70)]\n"
     ]
    }
   ],
   "source": [
    "count_at=Counter()\n",
    "\n",
    "for twitter in collection.find():\n",
    "    try:\n",
    "        tweet = twitter[\"text\"]\n",
    "        tweet = tweet.lower()\n",
    "        terms_at = [term for term in preprocess(tweet)\n",
    "                  if term.startswith('@')]\n",
    "        # Update the counter\n",
    "        count_at.update(terms_at)\n",
    "    except Exception:\n",
    "        pass\n",
    "# Print the first 5 most frequent words\n",
    "print(count_at.most_common(20))"
   ]
  },
  {
   "cell_type": "code",
   "execution_count": 65,
   "metadata": {
    "collapsed": false
   },
   "outputs": [],
   "source": [
    "from collections import defaultdict\n",
    "# remember to include the other import from the previous post\n",
    " \n",
    "com = defaultdict(lambda : defaultdict(int))\n",
    " \n",
    "# f is the file pointer to the JSON data set\n",
    "for twitter in collection.find():\n",
    "    try:\n",
    "        tweet = twitter[\"text\"]\n",
    "        tweet = tweet.lower()\n",
    "        terms_only = [term for term in preprocess(tweet)\n",
    "                      if term not in stop\n",
    "                      and not term.startswith(('#', '@'))]\n",
    "    except Exception:\n",
    "        pass\n",
    " \n",
    "    # Build co-occurrence matrix\n",
    "    for i in range(len(terms_only)-1):           \n",
    "        for j in range(i+1, len(terms_only)):\n",
    "            w1, w2 = sorted([terms_only[i], terms_only[j]])               \n",
    "            if w1 != w2:\n",
    "                com[w1][w2] += 1"
   ]
  },
  {
   "cell_type": "code",
   "execution_count": 66,
   "metadata": {
    "collapsed": false
   },
   "outputs": [
    {
     "name": "stdout",
     "output_type": "stream",
     "text": [
      "[(('❤', '️'), 4319), (('💗', '😭'), 3302), (('🏻', '🖕'), 2991), (('latest', 'opening'), 2757), (('fit', 'great'), 1959), (('want', 'work'), 1891), (('apply', 'click'), 1875), (('click', \"we're\"), 1856), (('😂', '😭'), 1852), (('birthday', 'happy'), 1614), (('‼', '️'), 1310), (('🏽', '👏'), 1083), (('hair', '💕'), 1069), (('work', \"you're\"), 1044), (('looking', \"you're\"), 1044), (('looking', 'work'), 1035), (('check', \"you're\"), 1025), (('check', 'looking'), 1023), (('check', 'work'), 1017), (('latest', 'team'), 1002)]\n"
     ]
    }
   ],
   "source": [
    "com_max = []\n",
    "# For each term, look for the most common co-occurrent terms\n",
    "for t1 in com:\n",
    "    t1_max_terms = sorted(com[t1].items(), key=operator.itemgetter(1), reverse=True)[:5]\n",
    "    for t2, t2_count in t1_max_terms:\n",
    "        com_max.append(((t1, t2), t2_count))\n",
    "# Get the most frequent co-occurrences\n",
    "terms_max = sorted(com_max, key=operator.itemgetter(1), reverse=True)\n",
    "print(terms_max[:20])"
   ]
  },
  {
   "cell_type": "code",
   "execution_count": 68,
   "metadata": {
    "collapsed": false
   },
   "outputs": [
    {
     "name": "stdout",
     "output_type": "stream",
     "text": [
      "Co-occurrence for retail:\n",
      "[('retail', 266), ('sales', 137), (\"we're\", 94), ('latest', 87), ('click', 86), ('apply', 83), ('service', 69), ('opening', 52), ('read', 44), ('great', 43), ('fit', 42), ('seasonal', 42), ('time', 40), ('customer', 39), ('…', 38), (\"macy's\", 35), ('recommend', 33), ('specialist', 33), ('holiday', 32), ('team', 32)]\n"
     ]
    }
   ],
   "source": [
    "search_word = \"retail\" # pass a term as a command-line argument\n",
    "count_search = Counter()\n",
    "for twitter in collection.find():\n",
    "    try:\n",
    "        tweet = twitter[\"text\"]\n",
    "        tweet = tweet.lower()\n",
    "        terms_only = [term for term in preprocess(tweet)\n",
    "                      if term not in stop\n",
    "                      and not term.startswith(('#', '@'))]\n",
    "        if search_word in terms_only:\n",
    "            count_search.update(terms_only)\n",
    "    except Exception:\n",
    "        pass\n",
    "print(\"Co-occurrence for %s:\" % search_word)\n",
    "print(count_search.most_common(20))\n",
    "\n"
   ]
  },
  {
   "cell_type": "code",
   "execution_count": 55,
   "metadata": {
    "collapsed": true
   },
   "outputs": [],
   "source": [
    "twitters = []\n",
    "for twitter in collection.find():\n",
    "    twitters.append(twitter['text'])"
   ]
  },
  {
   "cell_type": "code",
   "execution_count": 37,
   "metadata": {
    "collapsed": false
   },
   "outputs": [],
   "source": [
    "twitters = [x.lower() for x in twitters]"
   ]
  },
  {
   "cell_type": "code",
   "execution_count": 10,
   "metadata": {
    "collapsed": true
   },
   "outputs": [],
   "source": [
    "def remove_urls(text):\n",
    "    text = re.sub(r\"(?:\\@|http?\\://)\\S+\", \"\", text)\n",
    "    text = re.sub(r\"(?:\\@|https?\\://)\\S+\", \"\", text)\n",
    "    return text"
   ]
  },
  {
   "cell_type": "code",
   "execution_count": 11,
   "metadata": {
    "collapsed": false
   },
   "outputs": [],
   "source": [
    "twitters = [remove_urls(x) for x in twitters ]"
   ]
  },
  {
   "cell_type": "code",
   "execution_count": 13,
   "metadata": {
    "collapsed": true
   },
   "outputs": [],
   "source": [
    "word_data = pd.Series(twitters).to_frame(name=\"twitter\")\n",
    "word_data['loc'] = \"Manhattan\""
   ]
  },
  {
   "cell_type": "code",
   "execution_count": 15,
   "metadata": {
    "collapsed": true
   },
   "outputs": [],
   "source": [
    "stop_words = ENGLISH_STOP_WORDS"
   ]
  },
  {
   "cell_type": "code",
   "execution_count": 15,
   "metadata": {
    "collapsed": true
   },
   "outputs": [],
   "source": [
    "rem = string.digits + '/\\-+.'\n",
    "rem_chars = lambda a: ''.join([i for i in a if i not in rem])\n",
    "word_data['twitter'] = word_data['twitter'].apply(rem_chars)\n"
   ]
  },
  {
   "cell_type": "code",
   "execution_count": 16,
   "metadata": {
    "collapsed": false
   },
   "outputs": [
    {
     "data": {
      "text/plain": [
       "<matplotlib.text.Text at 0x7f2ef46e2f28>"
      ]
     },
     "execution_count": 16,
     "metadata": {},
     "output_type": "execute_result"
    },
    {
     "data": {
      "image/png": "[encoded data removed]",
      "text/plain": [
       "<matplotlib.figure.Figure at 0x7f2ef47b9518>"
      ]
     },
     "metadata": {},
     "output_type": "display_data"
    }
   ],
   "source": [
    "vec = CountVectorizer(max_df=.6, stop_words=stop_words)\n",
    "vec_tar = LabelEncoder()\n",
    "\n",
    "counts = vec.fit_transform(word_data['twitter'])\n",
    "targets = vec_tar.fit_transform(word_data['loc'])\n",
    "plt.plot(counts[:3].toarray().T)\n",
    "plt.ylim([-1, 2])\n",
    "plt.title('Each row is a post, with 1s representing presence of a word in that post')"
   ]
  },
  {
   "cell_type": "code",
   "execution_count": 19,
   "metadata": {
    "collapsed": true
   },
   "outputs": [],
   "source": [
    "top_words = {}\n",
    "for itrg in np.unique(targets):\n",
    "    loc = vec_tar.classes_[itrg]\n",
    "    # Pull only the data points assigned to the current loction\n",
    "    icounts = counts[targets == itrg, :].sum(0).squeeze()\n",
    "    \n",
    "    # Which counts had at least five occurrences\n",
    "    msk_top_words = icounts > 400\n",
    "    \n",
    "    # The inverse transform turns the vectors back into actual words\n",
    "    top_words[loc] = vec.inverse_transform(msk_top_words)[0]"
   ]
  },
  {
   "cell_type": "code",
   "execution_count": 20,
   "metadata": {
    "collapsed": false
   },
   "outputs": [
    {
     "data": {
      "text/plain": [
       "{'Manhattan': array(['amazing', 'amp', 'apply', 'ass', 'avenue', 'bad', 'beautiful',\n",
       "        'best', 'better', 'big', 'birthday', 'black', 'brooklyn',\n",
       "        'careerarc', 'check', 'city', 'class', 'cleared', 'click',\n",
       "        'clinton', 'come', 'coming', 'construction', 'day', 'days', 'did',\n",
       "        'didn', 'does', 'doesn', 'doing', 'don', 'election', 'exit', 'feel',\n",
       "        'fit', 'friends', 'fuck', 'fucking', 'game', 'getting', 'girl',\n",
       "        'god', 'going', 'gonna', 'good', 'got', 'great', 'gt', 'guy',\n",
       "        'guys', 'halloween', 'happy', 'hate', 'having', 'help', 'hillary',\n",
       "        'hiring', 'home', 'hope', 'im', 'incident', 'job', 'jobs', 'join',\n",
       "        'just', 'know', 'latest', 'let', 'life', 'like', 'line', 'little',\n",
       "        'live', 'll', 'lmao', 'lol', 'long', 'look', 'looking', 'lot',\n",
       "        'love', 'make', 'makes', 'man', 'manhattan', 'miss', 'morning',\n",
       "        'music', 'need', 'new', 'newyork', 'night', 'nj', 'november', 'ny',\n",
       "        'nyc', 'oh', 'opening', 'park', 'party', 'people', 'photo', 'pm',\n",
       "        'read', 'real', 'really', 'recommend', 'right', 'said', 'say',\n",
       "        'school', 'shit', 'st', 'start', 'station', 'stop', 'street',\n",
       "        'sure', 'talk', 'team', 'tell', 'th', 'thank', 'thanks', 'thing',\n",
       "        'things', 'think', 'time', 'today', 'tomorrow', 'tonight', 'trump',\n",
       "        'trying', 'update', 'use', 've', 'video', 'view', 'vote', 'wait',\n",
       "        'wanna', 'want', 'watch', 'way', 'week', 'white', 'win', 'women',\n",
       "        'work', 'world', 'yeah', 'year', 'years', 'yes', 'york'], \n",
       "       dtype='<U113')}"
      ]
     },
     "execution_count": 20,
     "metadata": {},
     "output_type": "execute_result"
    }
   ],
   "source": [
    "top_words"
   ]
  },
  {
   "cell_type": "code",
   "execution_count": 21,
   "metadata": {
    "collapsed": false
   },
   "outputs": [
    {
     "ename": "IndexError",
     "evalue": "list index out of range",
     "output_type": "error",
     "traceback": [
      "\u001b[1;31m---------------------------------------------------------------------------\u001b[0m",
      "\u001b[1;31mIndexError\u001b[0m                                Traceback (most recent call last)",
      "\u001b[1;32m<ipython-input-21-c01e3ad74dbc>\u001b[0m in \u001b[0;36m<module>\u001b[1;34m()\u001b[0m\n\u001b[0;32m      3\u001b[0m     \u001b[0mothers\u001b[0m \u001b[1;33m=\u001b[0m \u001b[0mtop_words\u001b[0m\u001b[1;33m.\u001b[0m\u001b[0mcopy\u001b[0m\u001b[1;33m(\u001b[0m\u001b[1;33m)\u001b[0m\u001b[1;33m\u001b[0m\u001b[0m\n\u001b[0;32m      4\u001b[0m     \u001b[0mothers\u001b[0m\u001b[1;33m.\u001b[0m\u001b[0mpop\u001b[0m\u001b[1;33m(\u001b[0m\u001b[0mloc\u001b[0m\u001b[1;33m)\u001b[0m\u001b[1;33m\u001b[0m\u001b[0m\n\u001b[1;32m----> 5\u001b[1;33m     unique_words[loc] = [wrd for wrd in top_words[loc]\n\u001b[0m\u001b[0;32m      6\u001b[0m                          if wrd not in np.hstack(others.values())]\n\u001b[0;32m      7\u001b[0m \u001b[1;32mfor\u001b[0m \u001b[0mloc\u001b[0m\u001b[1;33m,\u001b[0m \u001b[0mwords\u001b[0m \u001b[1;32min\u001b[0m \u001b[0munique_words\u001b[0m\u001b[1;33m.\u001b[0m\u001b[0mitems\u001b[0m\u001b[1;33m(\u001b[0m\u001b[1;33m)\u001b[0m\u001b[1;33m:\u001b[0m\u001b[1;33m\u001b[0m\u001b[0m\n",
      "\u001b[1;32m<ipython-input-21-c01e3ad74dbc>\u001b[0m in \u001b[0;36m<listcomp>\u001b[1;34m(.0)\u001b[0m\n\u001b[0;32m      4\u001b[0m     \u001b[0mothers\u001b[0m\u001b[1;33m.\u001b[0m\u001b[0mpop\u001b[0m\u001b[1;33m(\u001b[0m\u001b[0mloc\u001b[0m\u001b[1;33m)\u001b[0m\u001b[1;33m\u001b[0m\u001b[0m\n\u001b[0;32m      5\u001b[0m     unique_words[loc] = [wrd for wrd in top_words[loc]\n\u001b[1;32m----> 6\u001b[1;33m                          if wrd not in np.hstack(others.values())]\n\u001b[0m\u001b[0;32m      7\u001b[0m \u001b[1;32mfor\u001b[0m \u001b[0mloc\u001b[0m\u001b[1;33m,\u001b[0m \u001b[0mwords\u001b[0m \u001b[1;32min\u001b[0m \u001b[0munique_words\u001b[0m\u001b[1;33m.\u001b[0m\u001b[0mitems\u001b[0m\u001b[1;33m(\u001b[0m\u001b[1;33m)\u001b[0m\u001b[1;33m:\u001b[0m\u001b[1;33m\u001b[0m\u001b[0m\n\u001b[0;32m      8\u001b[0m     \u001b[0mprint\u001b[0m\u001b[1;33m(\u001b[0m\u001b[1;34m'{0}: {1}\\n\\n---\\n'\u001b[0m\u001b[1;33m.\u001b[0m\u001b[0mformat\u001b[0m\u001b[1;33m(\u001b[0m\u001b[0mloc\u001b[0m\u001b[1;33m,\u001b[0m \u001b[0mwords\u001b[0m\u001b[1;33m)\u001b[0m\u001b[1;33m)\u001b[0m\u001b[1;33m\u001b[0m\u001b[0m\n",
      "\u001b[1;32m/home/peimengsui/anaconda3/lib/python3.5/site-packages/numpy/core/shape_base.py\u001b[0m in \u001b[0;36mhstack\u001b[1;34m(tup)\u001b[0m\n\u001b[0;32m    275\u001b[0m     \u001b[0marrs\u001b[0m \u001b[1;33m=\u001b[0m \u001b[1;33m[\u001b[0m\u001b[0matleast_1d\u001b[0m\u001b[1;33m(\u001b[0m\u001b[0m_m\u001b[0m\u001b[1;33m)\u001b[0m \u001b[1;32mfor\u001b[0m \u001b[0m_m\u001b[0m \u001b[1;32min\u001b[0m \u001b[0mtup\u001b[0m\u001b[1;33m]\u001b[0m\u001b[1;33m\u001b[0m\u001b[0m\n\u001b[0;32m    276\u001b[0m     \u001b[1;31m# As a special case, dimension 0 of 1-dimensional arrays is \"horizontal\"\u001b[0m\u001b[1;33m\u001b[0m\u001b[1;33m\u001b[0m\u001b[0m\n\u001b[1;32m--> 277\u001b[1;33m     \u001b[1;32mif\u001b[0m \u001b[0marrs\u001b[0m\u001b[1;33m[\u001b[0m\u001b[1;36m0\u001b[0m\u001b[1;33m]\u001b[0m\u001b[1;33m.\u001b[0m\u001b[0mndim\u001b[0m \u001b[1;33m==\u001b[0m \u001b[1;36m1\u001b[0m\u001b[1;33m:\u001b[0m\u001b[1;33m\u001b[0m\u001b[0m\n\u001b[0m\u001b[0;32m    278\u001b[0m         \u001b[1;32mreturn\u001b[0m \u001b[0m_nx\u001b[0m\u001b[1;33m.\u001b[0m\u001b[0mconcatenate\u001b[0m\u001b[1;33m(\u001b[0m\u001b[0marrs\u001b[0m\u001b[1;33m,\u001b[0m \u001b[1;36m0\u001b[0m\u001b[1;33m)\u001b[0m\u001b[1;33m\u001b[0m\u001b[0m\n\u001b[0;32m    279\u001b[0m     \u001b[1;32melse\u001b[0m\u001b[1;33m:\u001b[0m\u001b[1;33m\u001b[0m\u001b[0m\n",
      "\u001b[1;31mIndexError\u001b[0m: list index out of range"
     ]
    }
   ],
   "source": [
    "unique_words = {}\n",
    "for loc, words in top_words.items():\n",
    "    others = top_words.copy()\n",
    "    others.pop(loc)\n",
    "    unique_words[loc] = [wrd for wrd in top_words[loc]\n",
    "                         if wrd not in np.hstack(others.values())]\n",
    "for loc, words in unique_words.items():\n",
    "    print('{0}: {1}\\n\\n---\\n'.format(loc, words))"
   ]
  },
  {
   "cell_type": "code",
   "execution_count": null,
   "metadata": {
    "collapsed": true
   },
   "outputs": [],
   "source": []
  }
 ],
 "metadata": {
  "anaconda-cloud": {},
  "kernelspec": {
   "display_name": "Python [Root]",
   "language": "python",
   "name": "Python [Root]"
  },
  "language_info": {
   "codemirror_mode": {
    "name": "ipython",
    "version": 3
   },
   "file_extension": ".py",
   "mimetype": "text/x-python",
   "name": "python",
   "nbconvert_exporter": "python",
   "pygments_lexer": "ipython3",
   "version": "3.5.2"
  }
 },
 "nbformat": 4,
 "nbformat_minor": 0
}
