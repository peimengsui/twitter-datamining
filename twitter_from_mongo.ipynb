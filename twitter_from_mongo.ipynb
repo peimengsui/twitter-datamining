{
 "cells": [
  {
   "cell_type": "code",
   "execution_count": 3,
   "metadata": {
    "collapsed": true
   },
   "outputs": [],
   "source": [
    "from pymongo import MongoClient\n",
    "import seaborn as sns\n",
    "import pandas as pd\n",
    "from matplotlib import pyplot as plt\n",
    "import matplotlib as mpl\n",
    "import numpy as np\n",
    "%matplotlib inline\n",
    "import re\n",
    "from sklearn.feature_extraction.text import CountVectorizer\n",
    "from sklearn.preprocessing import LabelEncoder\n",
    "from sklearn.svm import LinearSVC\n",
    "from sklearn.cross_validation import StratifiedShuffleSplit\n",
    "from sklearn.feature_extraction.stop_words import ENGLISH_STOP_WORDS\n",
    "import string\n",
    "import operator\n",
    "import json\n",
    "from collections import Counter\n",
    "from nltk.corpus import stopwords\n",
    "from nltk import bigrams "
   ]
  },
  {
   "cell_type": "code",
   "execution_count": 4,
   "metadata": {
    "collapsed": true
   },
   "outputs": [],
   "source": [
    "client = MongoClient('localhost', 27017)\n",
    "db = client.Manhattan_Twitter_db\n",
    "collection = db.twitter_collection"
   ]
  },
  {
   "cell_type": "code",
   "execution_count": 5,
   "metadata": {
    "collapsed": false
   },
   "outputs": [
    {
     "data": {
      "text/plain": [
       "pymongo.collection.Collection"
      ]
     },
     "execution_count": 5,
     "metadata": {},
     "output_type": "execute_result"
    }
   ],
   "source": [
    "type(collection)"
   ]
  },
  {
   "cell_type": "code",
   "execution_count": 9,
   "metadata": {
    "collapsed": true
   },
   "outputs": [],
   "source": [
    "twitters = []\n",
    "for twitter in collection.find():\n",
    "    twitters.append(twitter['text'])"
   ]
  },
  {
   "cell_type": "code",
   "execution_count": 10,
   "metadata": {
    "collapsed": false
   },
   "outputs": [
    {
     "data": {
      "text/plain": [
       "60301"
      ]
     },
     "execution_count": 10,
     "metadata": {},
     "output_type": "execute_result"
    }
   ],
   "source": [
    "len(twitters)"
   ]
  },
  {
   "cell_type": "code",
   "execution_count": 13,
   "metadata": {
    "collapsed": false
   },
   "outputs": [],
   "source": [
    "\n",
    "word_data = pd.Series(twitters).to_frame(name=\"twitter\")"
   ]
  },
  {
   "cell_type": "code",
   "execution_count": 14,
   "metadata": {
    "collapsed": true
   },
   "outputs": [],
   "source": [
    "word_data['loc'] = \"Manhattan\""
   ]
  },
  {
   "cell_type": "code",
   "execution_count": 16,
   "metadata": {
    "collapsed": false
   },
   "outputs": [],
   "source": [
    "from sklearn.feature_extraction.text import CountVectorizer\n",
    "from sklearn.preprocessing import LabelEncoder\n",
    "from sklearn.svm import LinearSVC\n",
    "from sklearn.cross_validation import StratifiedShuffleSplit\n",
    "from sklearn.feature_extraction.stop_words import ENGLISH_STOP_WORDS\n",
    "import string\n",
    "\n",
    "rem = string.digits + '/\\-+.'\n",
    "rem_chars = lambda a: ''.join([i for i in a if i not in rem])\n",
    "word_data['twitter'] = word_data['twitter'].apply(rem_chars)\n"
   ]
  },
  {
   "cell_type": "code",
   "execution_count": 17,
   "metadata": {
    "collapsed": true
   },
   "outputs": [],
   "source": [
    "stop_words = ENGLISH_STOP_WORDS"
   ]
  },
  {
   "cell_type": "code",
   "execution_count": 21,
   "metadata": {
    "collapsed": false
   },
   "outputs": [
    {
     "data": {
      "text/plain": [
       "<matplotlib.text.Text at 0x7f6a1ab051d0>"
      ]
     },
     "execution_count": 21,
     "metadata": {},
     "output_type": "execute_result"
    },
    {
     "data": {
      "image/png": "[encoded data removed]",
      "text/plain": [
       "<matplotlib.figure.Figure at 0x7f6a1a33e2b0>"
      ]
     },
     "metadata": {},
     "output_type": "display_data"
    }
   ],
   "source": [
    "vec = CountVectorizer(max_df=.6, stop_words=stop_words)\n",
    "vec_tar = LabelEncoder()\n",
    "\n",
    "counts = vec.fit_transform(word_data['twitter'])\n",
    "targets = vec_tar.fit_transform(word_data['loc'])\n",
    "plt.plot(counts[:3].toarray().T)\n",
    "plt.ylim([-1, 2])\n",
    "plt.title('Each row is a post, with 1s representing presence of a word in that post')"
   ]
  },
  {
   "cell_type": "code",
   "execution_count": 31,
   "metadata": {
    "collapsed": false
   },
   "outputs": [],
   "source": [
    "top_words = {}\n",
    "for itrg in np.unique(targets):\n",
    "    loc = vec_tar.classes_[itrg]\n",
    "    # Pull only the data points assigned to the current loction\n",
    "    icounts = counts[targets == itrg, :].sum(0).squeeze()\n",
    "    \n",
    "    # Which counts had at least five occurrences\n",
    "    msk_top_words = icounts > 400\n",
    "    \n",
    "    # The inverse transform turns the vectors back into actual words\n",
    "    top_words[loc] = vec.inverse_transform(msk_top_words)[0]"
   ]
  },
  {
   "cell_type": "code",
   "execution_count": 32,
   "metadata": {
    "collapsed": false
   },
   "outputs": [
    {
     "data": {
      "text/plain": [
       "{'Manhattan': array(['amp', 'apply', 'avenue', 'best', 'better', 'birthday', 'black',\n",
       "        'brooklyn', 'careerarc', 'check', 'city', 'cleared', 'click',\n",
       "        'come', 'construction', 'day', 'days', 'did', 'don', 'exit', 'feel',\n",
       "        'fit', 'fuck', 'getting', 'going', 'gonna', 'good', 'got', 'great',\n",
       "        'halloween', 'happy', 'help', 'hillary', 'hillaryclinton', 'hiring',\n",
       "        'home', 'https', 'im', 'incident', 'job', 'jobs', 'join', 'just',\n",
       "        'know', 'latest', 'let', 'life', 'like', 'live', 'll', 'lmao',\n",
       "        'lol', 'look', 'looking', 'love', 'make', 'man', 'manhattan',\n",
       "        'need', 'new', 'newyork', 'night', 'nj', 'ny', 'nyc', 'oh',\n",
       "        'opening', 'people', 'pm', 'read', 'real', 'realdonaldtrump',\n",
       "        'really', 'recommend', 'right', 'said', 'say', 'shit', 'st', 'stop',\n",
       "        'street', 'team', 'th', 'thank', 'thanks', 'thing', 'think', 'time',\n",
       "        'today', 'tonight', 'trump', 'update', 've', 'vote', 'wait', 'want',\n",
       "        'way', 'week', 'work', 'world', 'year', 'yes', 'york'], \n",
       "       dtype='<U113')}"
      ]
     },
     "execution_count": 32,
     "metadata": {},
     "output_type": "execute_result"
    }
   ],
   "source": [
    "top_words"
   ]
  },
  {
   "cell_type": "code",
   "execution_count": 6,
   "metadata": {
    "collapsed": true
   },
   "outputs": [],
   "source": [
    "import re\n",
    " \n",
    "emoticons_str = r\"\"\"\n",
    "    (?:\n",
    "        [:=;] # Eyes\n",
    "        [oO\\-]? # Nose (optional)\n",
    "        [D\\)\\]\\(\\]/\\\\OpP] # Mouth\n",
    "    )\"\"\"\n",
    " \n",
    "regex_str = [\n",
    "    emoticons_str,\n",
    "    r'<[^>]+>', # HTML tags\n",
    "    r'(?:@[\\w_]+)', # @-mentions\n",
    "    r\"(?:\\#+[\\w_]+[\\w\\'_\\-]*[\\w_]+)\", # hash-tags\n",
    "    r'http[s]?://(?:[a-z]|[0-9]|[$-_@.&amp;+]|[!*\\(\\),]|(?:%[0-9a-f][0-9a-f]))+', # URLs\n",
    " \n",
    "    r'(?:(?:\\d+,?)+(?:\\.?\\d+)?)', # numbers\n",
    "    r\"(?:[a-z][a-z'\\-_]+[a-z])\", # words with - and '\n",
    "    r'(?:[\\w_]+)', # other words\n",
    "    r'(?:\\S)' # anything else\n",
    "]\n",
    "    \n",
    "tokens_re = re.compile(r'('+'|'.join(regex_str)+')', re.VERBOSE | re.IGNORECASE)\n",
    "emoticon_re = re.compile(r'^'+emoticons_str+'$', re.VERBOSE | re.IGNORECASE)\n",
    " \n",
    "def tokenize(s):\n",
    "    return tokens_re.findall(s)\n",
    " \n",
    "def preprocess(s, lowercase=False):\n",
    "    tokens = tokenize(s)\n",
    "    if lowercase:\n",
    "        tokens = [token if emoticon_re.search(token) else token.lower() for token in tokens]\n",
    "    return tokens\n",
    " "
   ]
  },
  {
   "cell_type": "code",
   "execution_count": 7,
   "metadata": {
    "collapsed": false
   },
   "outputs": [],
   "source": [
    "punctuation = list(string.punctuation)\n",
    "stop_words = ENGLISH_STOP_WORDS\n",
    "stop = stopwords.words('english') + punctuation + ['rt', 'via','amp'] + list(stop_words)\n",
    "count_bigram=Counter()"
   ]
  },
  {
   "cell_type": "code",
   "execution_count": 10,
   "metadata": {
    "collapsed": false
   },
   "outputs": [
    {
     "name": "stdout",
     "output_type": "stream",
     "text": [
      "Co-occurrence for nyc:\n",
      "[('nyc', 965), ('…', 228), ('new', 74), ('park', 66), ('central', 58), (\"i'm\", 51), ('️', 49), ('ny', 46), ('york', 43), ('square', 41), ('day', 40), ('11', 38), ('times', 38), (\"it's\", 34), ('time', 34), ('2', 33), ('❤', 32), ('9', 30), ('center', 29), ('love', 28)]\n"
     ]
    }
   ],
   "source": [
    "search_word = \"nyc\" # pass a term as a command-line argument\n",
    "count_search = Counter()\n",
    "for twitter in collection.find():\n",
    "    tweet = twitter[\"text\"]\n",
    "    tweet = tweet.lower()\n",
    "    terms_only = [term for term in preprocess(tweet)\n",
    "                  if term not in stop\n",
    "                  and not term.startswith(('#', '@'))]\n",
    "    if search_word in terms_only:\n",
    "        count_search.update(terms_only)\n",
    "print(\"Co-occurrence for %s:\" % search_word)\n",
    "print(count_search.most_common(20))\n"
   ]
  },
  {
   "cell_type": "code",
   "execution_count": null,
   "metadata": {
    "collapsed": true
   },
   "outputs": [],
   "source": []
  }
 ],
 "metadata": {
  "anaconda-cloud": {},
  "kernelspec": {
   "display_name": "Python [Root]",
   "language": "python",
   "name": "Python [Root]"
  },
  "language_info": {
   "codemirror_mode": {
    "name": "ipython",
    "version": 3
   },
   "file_extension": ".py",
   "mimetype": "text/x-python",
   "name": "python",
   "nbconvert_exporter": "python",
   "pygments_lexer": "ipython3",
   "version": "3.5.2"
  }
 },
 "nbformat": 4,
 "nbformat_minor": 0
}
